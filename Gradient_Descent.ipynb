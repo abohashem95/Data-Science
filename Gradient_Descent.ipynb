{
  "nbformat": 4,
  "nbformat_minor": 5,
  "metadata": {
    "kernelspec": {
      "display_name": "Python 3",
      "language": "python",
      "name": "python3"
    },
    "language_info": {
      "codemirror_mode": {
        "name": "ipython",
        "version": 3
      },
      "file_extension": ".py",
      "mimetype": "text/x-python",
      "name": "python",
      "nbconvert_exporter": "python",
      "pygments_lexer": "ipython3",
      "version": "3.8.8"
    },
    "colab": {
      "name": "Gradient Descent",
      "provenance": [],
      "collapsed_sections": [],
      "include_colab_link": true
    }
  },
  "cells": [
    {
      "cell_type": "markdown",
      "metadata": {
        "id": "view-in-github",
        "colab_type": "text"
      },
      "source": [
        "<a href=\"https://colab.research.google.com/github/abohashem95/Data-Science/blob/main/Gradient_Descent.ipynb\" target=\"_parent\"><img src=\"https://colab.research.google.com/assets/colab-badge.svg\" alt=\"Open In Colab\"/></a>"
      ]
    },
    {
      "cell_type": "code",
      "metadata": {
        "id": "a4c77b8e"
      },
      "source": [
        "import numpy as np\n",
        "import matplotlib.pyplot as plt\n",
        "%matplotlib inline"
      ],
      "id": "a4c77b8e",
      "execution_count": 1,
      "outputs": []
    },
    {
      "cell_type": "code",
      "metadata": {
        "id": "a4e38dcc"
      },
      "source": [
        "x = np.array([1,1,2,3,4,5,6,7,8,9,10,11])\n",
        "y = np.array([1,2,3,1,4,5,6,4,7,10,15,9])"
      ],
      "id": "a4e38dcc",
      "execution_count": 2,
      "outputs": []
    },
    {
      "cell_type": "code",
      "metadata": {
        "id": "520acf6c",
        "colab": {
          "base_uri": "https://localhost:8080/"
        },
        "outputId": "1ddf32e8-eec2-427b-ee5f-97f0d9e1ef06"
      },
      "source": [
        "theta = np.zeros(2)\n",
        "alpha = 0.001\n",
        "iterations = 100\n",
        "cost = np.zeros(iterations)\n",
        "thetas = np.zeros((iterations,2))\n",
        "m = len(x)\n",
        "for i in range(iterations):\n",
        "    h = x*theta[1] + theta[0]\n",
        "    cost[i] = np.sum(np.power((h - y), 2)) / (2 * m)\n",
        "    theta[0] = theta[0] - ((alpha / m) * np.sum(h - y))\n",
        "    theta[1] = theta[1] - ((alpha / m) * np.sum((h - y)*x))\n",
        "    thetas[i] = theta\n",
        "    \n",
        "theta"
      ],
      "id": "520acf6c",
      "execution_count": 3,
      "outputs": [
        {
          "output_type": "execute_result",
          "data": {
            "text/plain": [
              "array([0.12159006, 0.98105889])"
            ]
          },
          "metadata": {},
          "execution_count": 3
        }
      ]
    },
    {
      "cell_type": "code",
      "metadata": {
        "id": "2538ea53",
        "colab": {
          "base_uri": "https://localhost:8080/"
        },
        "outputId": "94b9bc8b-a606-44be-b144-e6ba1eb8bff0"
      },
      "source": [
        "# get predicted y\n",
        "y_pred = theta[0] + theta[1]*x\n",
        "\n",
        "# calculate r2 score\n",
        "from sklearn.metrics import r2_score\n",
        "r2_score(y, y_pred)"
      ],
      "id": "2538ea53",
      "execution_count": 4,
      "outputs": [
        {
          "output_type": "execute_result",
          "data": {
            "text/plain": [
              "0.7552354325160184"
            ]
          },
          "metadata": {},
          "execution_count": 4
        }
      ]
    },
    {
      "cell_type": "code",
      "metadata": {
        "id": "13f00365"
      },
      "source": [
        "p1= np.linspace(x.min(), x.max(), m)\n",
        "p2= theta[0] + theta[1]*p1"
      ],
      "id": "13f00365",
      "execution_count": 5,
      "outputs": []
    },
    {
      "cell_type": "code",
      "metadata": {
        "id": "4d190fce",
        "colab": {
          "base_uri": "https://localhost:8080/",
          "height": 296
        },
        "outputId": "7beb6eb4-4905-466f-eb0f-1dbfcefed621"
      },
      "source": [
        "plt.scatter(x,y)\n",
        "plt.xlabel('X')\n",
        "plt.ylabel('y')\n",
        "plt.plot(p1, p2, 'r')"
      ],
      "id": "4d190fce",
      "execution_count": 6,
      "outputs": [
        {
          "output_type": "execute_result",
          "data": {
            "text/plain": [
              "[<matplotlib.lines.Line2D at 0x7f1a33124050>]"
            ]
          },
          "metadata": {},
          "execution_count": 6
        },
        {
          "output_type": "display_data",
          "data": {
            "image/png": "[encoded data removed]",
            "text/plain": [
              "<Figure size 432x288 with 1 Axes>"
            ]
          },
          "metadata": {
            "needs_background": "light"
          }
        }
      ]
    },
    {
      "cell_type": "code",
      "metadata": {
        "id": "6dcbbb03",
        "colab": {
          "base_uri": "https://localhost:8080/",
          "height": 312
        },
        "outputId": "0666e223-3b2b-4e46-d79f-2e8f0ab444d4"
      },
      "source": [
        "# draw cost graph\n",
        "plt.plot(np.arange(iterations), cost)\n",
        "plt.xlabel('iterations')\n",
        "plt.ylabel('cost')\n",
        "plt.title('iterations vs cost')"
      ],
      "id": "6dcbbb03",
      "execution_count": 7,
      "outputs": [
        {
          "output_type": "execute_result",
          "data": {
            "text/plain": [
              "Text(0.5, 1.0, 'iterations vs cost')"
            ]
          },
          "metadata": {},
          "execution_count": 7
        },
        {
          "output_type": "display_data",
          "data": {
            "image/png": "[encoded data removed]",
            "text/plain": [
              "<Figure size 432x288 with 1 Axes>"
            ]
          },
          "metadata": {
            "needs_background": "light"
          }
        }
      ]
    },
    {
      "cell_type": "code",
      "metadata": {
        "id": "3a62b88f",
        "colab": {
          "base_uri": "https://localhost:8080/",
          "height": 312
        },
        "outputId": "8ae6bfc5-5692-493b-f5b4-00ced11d15ed"
      },
      "source": [
        "plt.plot(thetas[:,0], cost)\n",
        "plt.xlabel('theta 0')\n",
        "plt.ylabel('cost')\n",
        "plt.title('theta 0 vs cost')"
      ],
      "id": "3a62b88f",
      "execution_count": 8,
      "outputs": [
        {
          "output_type": "execute_result",
          "data": {
            "text/plain": [
              "Text(0.5, 1.0, 'theta 0 vs cost')"
            ]
          },
          "metadata": {},
          "execution_count": 8
        },
        {
          "output_type": "display_data",
          "data": {
            "image/png": "[encoded data removed]",
            "text/plain": [
              "<Figure size 432x288 with 1 Axes>"
            ]
          },
          "metadata": {
            "needs_background": "light"
          }
        }
      ]
    },
    {
      "cell_type": "code",
      "metadata": {
        "id": "90fbd018",
        "colab": {
          "base_uri": "https://localhost:8080/",
          "height": 312
        },
        "outputId": "ae763888-ec59-4e19-a7b5-db0afbf191a5"
      },
      "source": [
        "plt.plot(thetas[:,1],cost)\n",
        "plt.xlabel('theta 1')\n",
        "plt.ylabel('cost')\n",
        "plt.title('theta 1 vs cost')"
      ],
      "id": "90fbd018",
      "execution_count": 9,
      "outputs": [
        {
          "output_type": "execute_result",
          "data": {
            "text/plain": [
              "Text(0.5, 1.0, 'theta 1 vs cost')"
            ]
          },
          "metadata": {},
          "execution_count": 9
        },
        {
          "output_type": "display_data",
          "data": {
            "image/png": "[encoded data removed]",
            "text/plain": [
              "<Figure size 432x288 with 1 Axes>"
            ]
          },
          "metadata": {
            "needs_background": "light"
          }
        }
      ]
    },
    {
      "cell_type": "code",
      "metadata": {
        "id": "0faa14e5"
      },
      "source": [
        ""
      ],
      "id": "0faa14e5",
      "execution_count": 9,
      "outputs": []
    }
  ]
}